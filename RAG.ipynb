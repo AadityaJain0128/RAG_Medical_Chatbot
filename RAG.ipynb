{
  "cells": [
    {
      "cell_type": "code",
      "execution_count": 1,
      "metadata": {
        "id": "bQO01mAtqS5M"
      },
      "outputs": [],
      "source": [
        "import numpy as np\n",
        "import pandas as pd"
      ]
    },
    {
      "cell_type": "markdown",
      "metadata": {
        "id": "bsMuw3a1_6mY"
      },
      "source": [
        "# Loading the labeled PubMedQA dataset"
      ]
    },
    {
      "cell_type": "code",
      "execution_count": 2,
      "metadata": {
        "colab": {
          "base_uri": "https://localhost:8080/"
        },
        "id": "CkiK6_2isacx",
        "outputId": "f1ce8373-ffc8-44db-ea9e-23c4e85fa3b8"
      },
      "outputs": [
        {
          "name": "stderr",
          "output_type": "stream",
          "text": [
            "d:\\New Folder\\extra\\AI\\RAG_Health_Bot\\venv\\Lib\\site-packages\\tqdm\\auto.py:21: TqdmWarning: IProgress not found. Please update jupyter and ipywidgets. See https://ipywidgets.readthedocs.io/en/stable/user_install.html\n",
            "  from .autonotebook import tqdm as notebook_tqdm\n"
          ]
        }
      ],
      "source": [
        "df = pd.read_parquet(\"hf://datasets/qiaojin/PubMedQA/pqa_labeled/train-00000-of-00001.parquet\")"
      ]
    },
    {
      "cell_type": "code",
      "execution_count": 3,
      "metadata": {
        "colab": {
          "base_uri": "https://localhost:8080/",
          "height": 206
        },
        "id": "YVuSIhLgsC0x",
        "outputId": "b464a694-cd5b-48c7-8295-eca11ef14ef7"
      },
      "outputs": [
        {
          "data": {
            "text/html": [
              "<div>\n",
              "<style scoped>\n",
              "    .dataframe tbody tr th:only-of-type {\n",
              "        vertical-align: middle;\n",
              "    }\n",
              "\n",
              "    .dataframe tbody tr th {\n",
              "        vertical-align: top;\n",
              "    }\n",
              "\n",
              "    .dataframe thead th {\n",
              "        text-align: right;\n",
              "    }\n",
              "</style>\n",
              "<table border=\"1\" class=\"dataframe\">\n",
              "  <thead>\n",
              "    <tr style=\"text-align: right;\">\n",
              "      <th></th>\n",
              "      <th>pubid</th>\n",
              "      <th>question</th>\n",
              "      <th>context</th>\n",
              "      <th>long_answer</th>\n",
              "      <th>final_decision</th>\n",
              "    </tr>\n",
              "  </thead>\n",
              "  <tbody>\n",
              "    <tr>\n",
              "      <th>0</th>\n",
              "      <td>21645374</td>\n",
              "      <td>Do mitochondria play a role in remodelling lac...</td>\n",
              "      <td>{'contexts': ['Programmed cell death (PCD) is ...</td>\n",
              "      <td>Results depicted mitochondrial dynamics in viv...</td>\n",
              "      <td>yes</td>\n",
              "    </tr>\n",
              "    <tr>\n",
              "      <th>1</th>\n",
              "      <td>16418930</td>\n",
              "      <td>Landolt C and snellen e acuity: differences in...</td>\n",
              "      <td>{'contexts': ['Assessment of visual acuity dep...</td>\n",
              "      <td>Using the charts described, there was only a s...</td>\n",
              "      <td>no</td>\n",
              "    </tr>\n",
              "    <tr>\n",
              "      <th>2</th>\n",
              "      <td>9488747</td>\n",
              "      <td>Syncope during bathing in infants, a pediatric...</td>\n",
              "      <td>{'contexts': ['Apparent life-threatening event...</td>\n",
              "      <td>\"Aquagenic maladies\" could be a pediatric form...</td>\n",
              "      <td>yes</td>\n",
              "    </tr>\n",
              "    <tr>\n",
              "      <th>3</th>\n",
              "      <td>17208539</td>\n",
              "      <td>Are the long-term results of the transanal pul...</td>\n",
              "      <td>{'contexts': ['The transanal endorectal pull-t...</td>\n",
              "      <td>Our long-term study showed significantly bette...</td>\n",
              "      <td>no</td>\n",
              "    </tr>\n",
              "    <tr>\n",
              "      <th>4</th>\n",
              "      <td>10808977</td>\n",
              "      <td>Can tailored interventions increase mammograph...</td>\n",
              "      <td>{'contexts': ['Telephone counseling and tailor...</td>\n",
              "      <td>The effects of the intervention were most pron...</td>\n",
              "      <td>yes</td>\n",
              "    </tr>\n",
              "  </tbody>\n",
              "</table>\n",
              "</div>"
            ],
            "text/plain": [
              "      pubid                                           question  \\\n",
              "0  21645374  Do mitochondria play a role in remodelling lac...   \n",
              "1  16418930  Landolt C and snellen e acuity: differences in...   \n",
              "2   9488747  Syncope during bathing in infants, a pediatric...   \n",
              "3  17208539  Are the long-term results of the transanal pul...   \n",
              "4  10808977  Can tailored interventions increase mammograph...   \n",
              "\n",
              "                                             context  \\\n",
              "0  {'contexts': ['Programmed cell death (PCD) is ...   \n",
              "1  {'contexts': ['Assessment of visual acuity dep...   \n",
              "2  {'contexts': ['Apparent life-threatening event...   \n",
              "3  {'contexts': ['The transanal endorectal pull-t...   \n",
              "4  {'contexts': ['Telephone counseling and tailor...   \n",
              "\n",
              "                                         long_answer final_decision  \n",
              "0  Results depicted mitochondrial dynamics in viv...            yes  \n",
              "1  Using the charts described, there was only a s...             no  \n",
              "2  \"Aquagenic maladies\" could be a pediatric form...            yes  \n",
              "3  Our long-term study showed significantly bette...             no  \n",
              "4  The effects of the intervention were most pron...            yes  "
            ]
          },
          "execution_count": 3,
          "metadata": {},
          "output_type": "execute_result"
        }
      ],
      "source": [
        "df.head()"
      ]
    },
    {
      "cell_type": "code",
      "execution_count": 4,
      "metadata": {
        "colab": {
          "base_uri": "https://localhost:8080/"
        },
        "id": "kAlhKmP_sjAt",
        "outputId": "0eefef43-917f-43f9-93b1-cc495fcad413"
      },
      "outputs": [
        {
          "data": {
            "text/plain": [
              "Index(['pubid', 'question', 'context', 'long_answer', 'final_decision'], dtype='object')"
            ]
          },
          "execution_count": 4,
          "metadata": {},
          "output_type": "execute_result"
        }
      ],
      "source": [
        "df.columns"
      ]
    },
    {
      "cell_type": "markdown",
      "metadata": {
        "id": "cI1hZ1XcANF4"
      },
      "source": [
        "# Creating the Document for each row"
      ]
    },
    {
      "cell_type": "code",
      "execution_count": 5,
      "metadata": {
        "id": "ssJGyeuExTBs"
      },
      "outputs": [],
      "source": [
        "from langchain.schema import Document"
      ]
    },
    {
      "cell_type": "code",
      "execution_count": 6,
      "metadata": {
        "id": "RN0ankRqx5ZQ"
      },
      "outputs": [],
      "source": [
        "docs = []\n",
        "\n",
        "for _, row in df.iterrows():\n",
        "  # Using 'contexts', 'labels', 'meshes', 'long_answer' and 'final_decision' for the content of document\n",
        "  content = \"Contexts:\\n\" + \", \".join(row[\"context\"][\"contexts\"]) + \"\\n\\nLabels:\\n\" + \", \".join(row[\"context\"][\"labels\"]) + \"\\n\\nMeshes:\\n\" + \", \".join(row[\"context\"][\"meshes\"]) + \"\\n\\nAnswer:\\n\" + row[\"long_answer\"] + \"\\n\\nFinal Decision:\\n\" + row[\"final_decision\"]\n",
        "  metadata = {\n",
        "      \"pubid\" : row[\"pubid\"],\n",
        "      \"question\" : row[\"question\"]\n",
        "  }\n",
        "\n",
        "  # Adding the Document to 'docs'\n",
        "  docs.append(Document(page_content=content, metadata=metadata))"
      ]
    },
    {
      "cell_type": "markdown",
      "metadata": {
        "id": "SA_puyUyAmTg"
      },
      "source": [
        "# Importing embedding model using Langchain"
      ]
    },
    {
      "cell_type": "code",
      "execution_count": 7,
      "metadata": {
        "id": "yFfhwKOpzdxI"
      },
      "outputs": [
        {
          "name": "stderr",
          "output_type": "stream",
          "text": [
            "C:\\Users\\user\\AppData\\Local\\Temp\\ipykernel_27532\\410358282.py:3: LangChainDeprecationWarning: The class `HuggingFaceEmbeddings` was deprecated in LangChain 0.2.2 and will be removed in 1.0. An updated version of the class exists in the :class:`~langchain-huggingface package and should be used instead. To use it run `pip install -U :class:`~langchain-huggingface` and import as `from :class:`~langchain_huggingface import HuggingFaceEmbeddings``.\n",
            "  model = HuggingFaceEmbeddings(model_name=\"all-MiniLM-L6-v2\")\n"
          ]
        }
      ],
      "source": [
        "from langchain_community.embeddings import HuggingFaceEmbeddings\n",
        "\n",
        "model = HuggingFaceEmbeddings(model_name=\"all-MiniLM-L6-v2\")"
      ]
    },
    {
      "cell_type": "markdown",
      "metadata": {
        "id": "6XS4aMTdAsmg"
      },
      "source": [
        "# Creating FAISS Vectors of the Documents"
      ]
    },
    {
      "cell_type": "code",
      "execution_count": 8,
      "metadata": {
        "id": "KlgXFv0j1Ssm"
      },
      "outputs": [],
      "source": [
        "from langchain_community.vectorstores import FAISS\n",
        "\n",
        "vectors = FAISS.from_documents(docs, model)"
      ]
    },
    {
      "cell_type": "markdown",
      "metadata": {
        "id": "gBrKYTRvBoPJ"
      },
      "source": [
        "# Creating Retriever Interface from the vector store"
      ]
    },
    {
      "cell_type": "code",
      "execution_count": 9,
      "metadata": {
        "id": "IZs-_CD3Bm4Q"
      },
      "outputs": [],
      "source": [
        "retriever = vectors.as_retriever(search_type=\"similarity\", search_kwargs={\"k\": 3}) # Checks the top 3 related sources from the vector store"
      ]
    },
    {
      "cell_type": "markdown",
      "metadata": {
        "id": "1zGiAIuQDX_x"
      },
      "source": [
        "# Using GROQ API to use the llama3 LLM"
      ]
    },
    {
      "cell_type": "code",
      "execution_count": 13,
      "metadata": {
        "id": "vdyBJG_65YIK"
      },
      "outputs": [],
      "source": [
        "from langchain_groq import ChatGroq\n",
        "from langchain.chains import RetrievalQA\n",
        "from dotenv import load_dotenv\n",
        "import os\n",
        "\n",
        "load_dotenv()\n",
        "API_KEY = os.environ.get(\"API_KEY\")\n",
        "\n",
        "llm = ChatGroq(\n",
        "    api_key=API_KEY,\n",
        "    model=\"llama-3.3-70b-versatile\",\n",
        "    temperature=0,\n",
        ")"
      ]
    },
    {
      "cell_type": "markdown",
      "metadata": {
        "id": "LYhkcAn_Tfad"
      },
      "source": [
        "# Setting Up Retrieval Augmented QA Chain"
      ]
    },
    {
      "cell_type": "code",
      "execution_count": 14,
      "metadata": {
        "id": "P-i5kCQuTdq_"
      },
      "outputs": [],
      "source": [
        "chain = RetrievalQA.from_chain_type(\n",
        "    llm=llm,\n",
        "    retriever=retriever,\n",
        "    return_source_documents=True,\n",
        "    chain_type=\"map_reduce\"\n",
        ")"
      ]
    },
    {
      "cell_type": "markdown",
      "metadata": {
        "id": "nBdjccAoTmal"
      },
      "source": [
        "# Example of a Query"
      ]
    },
    {
      "cell_type": "code",
      "execution_count": 15,
      "metadata": {
        "colab": {
          "base_uri": "https://localhost:8080/"
        },
        "id": "tCCo9p5T5n2y",
        "outputId": "671aa921-607a-41e0-fa69-6e94f5a8a966"
      },
      "outputs": [
        {
          "name": "stderr",
          "output_type": "stream",
          "text": [
            "d:\\New Folder\\extra\\AI\\RAG_Health_Bot\\venv\\Lib\\site-packages\\huggingface_hub\\file_download.py:143: UserWarning: `huggingface_hub` cache-system uses symlinks by default to efficiently store duplicated files but your machine does not support them in C:\\Users\\user\\.cache\\huggingface\\hub\\models--gpt2. Caching files will still work but in a degraded version that might require more space on your disk. This warning can be disabled by setting the `HF_HUB_DISABLE_SYMLINKS_WARNING` environment variable. For more details, see https://huggingface.co/docs/huggingface_hub/how-to-cache#limitations.\n",
            "To support symlinks on Windows, you either need to activate Developer Mode or to run Python as an administrator. In order to activate developer mode, see this article: https://docs.microsoft.com/en-us/windows/apps/get-started/enable-your-device-for-development\n",
            "  warnings.warn(message)\n"
          ]
        },
        {
          "name": "stdout",
          "output_type": "stream",
          "text": [
            "Answer: Yes.\n"
          ]
        }
      ],
      "source": [
        "query = \"Is the Hawkins sign able to predict necrosis in fractures of the neck of the astragalus?, yes or no\"\n",
        "result = chain({\"query\": query})\n",
        "\n",
        "print(\"Answer:\", result[\"result\"])"
      ]
    }
  ],
  "metadata": {
    "colab": {
      "provenance": []
    },
    "kernelspec": {
      "display_name": "venv",
      "language": "python",
      "name": "python3"
    },
    "language_info": {
      "codemirror_mode": {
        "name": "ipython",
        "version": 3
      },
      "file_extension": ".py",
      "mimetype": "text/x-python",
      "name": "python",
      "nbconvert_exporter": "python",
      "pygments_lexer": "ipython3",
      "version": "3.11.4"
    }
  },
  "nbformat": 4,
  "nbformat_minor": 0
}
